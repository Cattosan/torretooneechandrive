{
  "nbformat": 4,
  "nbformat_minor": 0,
  "metadata": {
    "colab": {
      "provenance": [],
      "collapsed_sections": [
        "vkvv-Wit_huC",
        "4E-uzYrv5o0B",
        "fkaNFMaxHDWz",
        "6I2huqscJEPn"
      ],
      "toc_visible": true,
      "include_colab_link": true
    },
    "kernelspec": {
      "name": "python3",
      "display_name": "Python 3"
    },
    "accelerator": "GPU"
  },
  "cells": [
    {
      "cell_type": "markdown",
      "metadata": {
        "id": "view-in-github",
        "colab_type": "text"
      },
      "source": [
        "<a href=\"https://colab.research.google.com/github/Cattosan/torretooneechandrive/blob/main/Torretos%20to%20Onee-chanDrive(localtunnel%20ver).ipynb\" target=\"_parent\"><img src=\"https://colab.research.google.com/assets/colab-badge.svg\" alt=\"Open In Colab\"/></a>"
      ]
    },
    {
      "cell_type": "markdown",
      "metadata": {
        "id": "HGctdySsIGFS"
      },
      "source": [
        "# **<font color='blue'> - Torrents to OneDrive - <br> Shared by [Cheems](https://github.com/cheems); <br> modified by [jericjan](https://github.com/jericjan); <br> modified again by [Catto-san](https://github.com/Cattosan); </font>**\n"
      ]
    },
    {
      "cell_type": "markdown",
      "source": [
        "# <font color='pink'>1. Install R**CLONE**</font> &nbsp; <img src='https://biplobsd.github.io/RLabClone/img/title_rclonelab.svg' height=\"60\" alt=\"RcloneLab\"/> <br> <img src='https://i.imgur.com/cmNHuw9.jpg' height=\"300\"/>"
      ],
      "metadata": {
        "id": "vkvv-Wit_huC"
      }
    },
    {
      "cell_type": "code",
      "source": [
        "!wget https://downloads.rclone.org/v1.52.1/rclone-v1.52.1-linux-amd64.deb\n",
        "!apt install ./rclone-v1.52.1-linux-amd64.deb"
      ],
      "metadata": {
        "id": "58ukOPnM94Sd"
      },
      "execution_count": null,
      "outputs": []
    },
    {
      "cell_type": "markdown",
      "source": [
        "# <font color='orange'>2. Authenticate OneDrive</font> &nbsp; <img id=\"wp_thbn_26\" src=\"data:image/png;base64,iVBORw0KGgoAAAANSUhEUgAAAHcAAABOCAMAAAAtknndAAAAvVBMVEUoqOr///8AeNQDZLgUkN8aper1+v4AdtMAYrcAX7YAi94rq+sAXLUAWLQAdNMAcdIAVbMAbNEAhdwAn+i7zOYAadB7n9ESb8K0zu4nneQqoeYgluFUte3r9v2q1vTY4/GyxeKEp9RfkMpLfcInb71tls1ViMcATbDJ2Oyiu94zdb+Tsdni6/XO4/aFrd4AZMFwod+Wu+hFjdoTec5ZqeaeyO9bl90ZfcuIvetqr+d6qeFMoeO53faVzfJvvu/HpcJdAAAD8ElEQVRogb3ZW1uqQBQG4EGF4SQq2lZTs4zKDNsV2VH3//9ZexhFB5iz4rrozt5nfXOCARjaZaWl+2OgA06vb2a3Ud33nXp0e3fTi8/gWtezut/0Hdu263X0x3b8phPd9ap1e/cPqMlS2U7zYTavyrUeozYF3ZXTXlxX4j7WfZup4q6bkXTc0u48anLRrdxeTE/r3rT5ve7Tbj6d0I0XEs1mYd/KLGoptyfZ7K5lR2Jmy7iPSmzasnh6SbhPbSUVw8IVJXbV2XRei2Ch+6jBomoLxljkzptqY7vv2OcfFgJ34mupKRxxl5PAvWXvx6Ly7zTdeDl//ttfpKedFtzmrSa6Gw9ekouLTieo1WAtSZK+jms7nKQpbvz61mkFsJYrRCt37f9RcKcfQatgZrSy3GQfTgU3/rgodpqT1cqZSbqvrYCJ6qTdZi5i0rXeGAnnZBWYPcKEOxerqmHbPmtKH9xBR4rFYcs3zDofgDKrFLZzL3AHHWlVJWzbmXDdpdzYEiWY2fh1ot/v2wP6CG9dC6qy/LAR+tnIavS+Ku8fW/eDv2xZMqPlFB01iHJD9yumuIqDS7RMke3+Z6NcbvgdF10rUU95L+dgNKpRvlVCdr8K7nNLl63lZzYKmIFu5caSdC3NlLPqZ71GLgfFFQ4I9/WYdnHLKGzbpo1queXVwdUfXULmBkx2vMrc+bHtQugOvaEci+D1zv05yoUQNkwPoJJsuOHGWzc8ImYIk5GHVQC8S0l4iN1YfzajgC936FaWCxvPLaC7V8GgNgKkCqTDDtFRAfRWEYThsISmLZsyDaONC7yoDy86vHZziSbLhD0xwIeySw2YgMFItG+5VwZQnM6wFl5yUMmZ/WsAJTTgBKwStjtRcYOQG3C+uDPbXYJEslVYc4UBS4ftriTHN0gUWhWH7X7LzGfYCofKKi5m2L/gR/BIly5WPRRwwh6J9iudgHMyI2wwZ+/PEAbu5VEqLuo2AixWvzBI9APOtUwJewSMN+rEgoHuXKJVKexfQHuswwGfDMWVDxutI2NacomHiJNVPmy0bxiFoPHJemoVy0TYaJ/MvR0dntIqqX3YrpW+p2QvobCKgMnywI59x+9H24ZVN349GYednvvpQ+UbpD+lVVJp2NbWnbboT2mVFJrZq+x9f2WeS8V1uFcZnxE2rw6u5Z0NNseHexXDmJyLBWBCusbkTA13l0bONSZnidpcGwXXsM4wuTI2f++96VasdvcXOvn79rjSls3x4a6y+F1jXdkom+CKcMrfcdZetwLa7G5yF7O071bxxjNRnYxENb4qGIzvdPF682/s4Z8cV+gcGG/W5ctv3ndJ6yRF/9//Aea1bX/JppdOAAAAAElFTkSuQmCC\" class=\"YQ4gaf zr758c wA1Bge\" height=\"55\" width=\"\" alt=\"\" data-csiid=\"5\" data-atf=\"1\"> <br> <img src='https://i.imgur.com/d6Mh1rA.jpg' height=\"245\"/>"
      ],
      "metadata": {
        "id": "Bc7EKpFGDn08"
      }
    },
    {
      "cell_type": "code",
      "source": [
        "!rclone config      #add your onedrive"
      ],
      "metadata": {
        "id": "GmfQzaQOEMm7"
      },
      "execution_count": null,
      "outputs": []
    },
    {
      "cell_type": "markdown",
      "source": [
        "# <font color='green'>3. Mount OneDrive using R**CLONE**</font> &nbsp; <img src='https://i.imgur.com/GpAoutq.png' height=\"60\" alt=\"RcloneLab\"/> <br> <img src='https://i.imgur.com/PuNERlv.png' height=\"300\"/>"
      ],
      "metadata": {
        "id": "zRXXtw0BEi-W"
      }
    },
    {
      "cell_type": "code",
      "source": [
        "!mkdir onedrive\n",
        "!nohup rclone --vfs-cache-mode writes mount onedrive: ./onedrive &    "
      ],
      "metadata": {
        "id": "tkGfnZ6nITGQ"
      },
      "execution_count": null,
      "outputs": []
    },
    {
      "cell_type": "markdown",
      "source": [
        "#<font color='green'>*3.a. Check if OneDrive is Mounted?* </font>"
      ],
      "metadata": {
        "id": "5v0AizIUIr0l"
      }
    },
    {
      "cell_type": "code",
      "source": [
        "!ls ./onedrive    #after sucessfully mounted onedrive then show your onedrive folders and files"
      ],
      "metadata": {
        "id": "1v-In3K8IvhS"
      },
      "execution_count": null,
      "outputs": []
    },
    {
      "cell_type": "markdown",
      "source": [
        "# <font color='red'>4. Install Localtunnel & qBittorrent</font> &nbsp; <img src=\"https://raw.githubusercontent.com/sudo-ken/Torrents-to-Google-Drive/master/title_qbittorrent.png\" height=\"60\" alt=\"qBittorrent\"> <br> <img src='https://i.imgur.com/0Gqh48q.png' height=\"300\"/>"
      ],
      "metadata": {
        "id": "Y5UTiDoXJttP"
      }
    },
    {
      "cell_type": "markdown",
      "source": [
        "#<font color='red'>*4.a. Install Localtunnel* </font>"
      ],
      "metadata": {
        "id": "4SRlUpcjKZNj"
      }
    },
    {
      "cell_type": "markdown",
      "source": [
        "\n",
        "\n",
        "*   Install localtunnel first to replace ngrok and then install qbittorrent, then it'll give you a URL for the WEB-UI.\n",
        "\n"
      ],
      "metadata": {
        "id": "viN0UQ6qKub8"
      }
    },
    {
      "cell_type": "code",
      "source": [
        "!npm install -g localtunnel"
      ],
      "metadata": {
        "id": "eQfz8_bdK0kU"
      },
      "execution_count": null,
      "outputs": []
    },
    {
      "cell_type": "markdown",
      "source": [
        "# <font color='red'> *4.b. Install qBittorrent*</font>"
      ],
      "metadata": {
        "id": "mKeVx0VLK6dy"
      }
    },
    {
      "cell_type": "code",
      "source": [
        "import os, time, urllib.request, json; from IPython.display import clear_output\n",
        "\n",
        "\n",
        "if os.path.isfile(\"/usr/bin/qbittorrent-nox\") == False:\n",
        "    get_ipython().system_raw(\"apt update -qq -y && yes \"\" | add-apt-repository ppa:qbittorrent-team/qbittorrent-stable\")\n",
        "    get_ipython().system_raw(\"apt install qbittorrent-nox\")\n",
        "    get_ipython().system_raw(\"mkdir -p -m 666 /{content/qBittorrent,root/{.qBittorrent_temp,.config/qBittorrent}} && curl -s https://pastebin.com/raw/7TEALGNz -o /root/.config/qBittorrent/qBittorrent.conf\")\n",
        "    print(\"qBittorrent successfully installed.\")\n",
        "    clear_output(wait=True)\n",
        "else:\n",
        "    print(\"qBittorrent already installed. Skipping...\")\n",
        "    clear_output(wait=True)\n",
        "    !pkill qbittorrent-nox\n",
        "    \n",
        "!qbittorrent-nox -d --webui-port=5454\n",
        "print(\"qBittorrent started \")\n",
        "clear_output(wait=True)\n",
        "\n",
        "if os.path.isfile(\"/usr/bin/rclone\") == False:\n",
        "    get_ipython().system_raw('curl https://rclone.org/install.sh | sudo bash &')\n",
        "    print(\"Rclone successfully installed\")\n",
        "    clear_output(wait=True)\n",
        "else:\n",
        "    print(\"Rclone already installed. Skipping...\")\n",
        "    clear_output(wait=True)\n",
        "\n",
        "!lt --port 5454"
      ],
      "metadata": {
        "id": "zaZMkaP7LPC5"
      },
      "execution_count": null,
      "outputs": []
    },
    {
      "cell_type": "markdown",
      "metadata": {
        "id": "6I2huqscJEPn"
      },
      "source": [
        "# <font color='blue'>5. Copy to OneDrive </font> &nbsp; <img id=\"wp_thbn_26\" src=\"data:image/png;base64,iVBORw0KGgoAAAANSUhEUgAAAHcAAABOCAMAAAAtknndAAAAvVBMVEUoqOr///8AeNQDZLgUkN8aper1+v4AdtMAYrcAX7YAi94rq+sAXLUAWLQAdNMAcdIAVbMAbNEAhdwAn+i7zOYAadB7n9ESb8K0zu4nneQqoeYgluFUte3r9v2q1vTY4/GyxeKEp9RfkMpLfcInb71tls1ViMcATbDJ2Oyiu94zdb+Tsdni6/XO4/aFrd4AZMFwod+Wu+hFjdoTec5ZqeaeyO9bl90ZfcuIvetqr+d6qeFMoeO53faVzfJvvu/HpcJdAAAD8ElEQVRogb3ZW1uqQBQG4EGF4SQq2lZTs4zKDNsV2VH3//9ZexhFB5iz4rrozt5nfXOCARjaZaWl+2OgA06vb2a3Ud33nXp0e3fTi8/gWtezut/0Hdu263X0x3b8phPd9ap1e/cPqMlS2U7zYTavyrUeozYF3ZXTXlxX4j7WfZup4q6bkXTc0u48anLRrdxeTE/r3rT5ve7Tbj6d0I0XEs1mYd/KLGoptyfZ7K5lR2Jmy7iPSmzasnh6SbhPbSUVw8IVJXbV2XRei2Ch+6jBomoLxljkzptqY7vv2OcfFgJ34mupKRxxl5PAvWXvx6Ly7zTdeDl//ttfpKedFtzmrSa6Gw9ekouLTieo1WAtSZK+jms7nKQpbvz61mkFsJYrRCt37f9RcKcfQatgZrSy3GQfTgU3/rgodpqT1cqZSbqvrYCJ6qTdZi5i0rXeGAnnZBWYPcKEOxerqmHbPmtKH9xBR4rFYcs3zDofgDKrFLZzL3AHHWlVJWzbmXDdpdzYEiWY2fh1ot/v2wP6CG9dC6qy/LAR+tnIavS+Ku8fW/eDv2xZMqPlFB01iHJD9yumuIqDS7RMke3+Z6NcbvgdF10rUU95L+dgNKpRvlVCdr8K7nNLl63lZzYKmIFu5caSdC3NlLPqZ71GLgfFFQ4I9/WYdnHLKGzbpo1queXVwdUfXULmBkx2vMrc+bHtQugOvaEci+D1zv05yoUQNkwPoJJsuOHGWzc8ImYIk5GHVQC8S0l4iN1YfzajgC936FaWCxvPLaC7V8GgNgKkCqTDDtFRAfRWEYThsISmLZsyDaONC7yoDy86vHZziSbLhD0xwIeySw2YgMFItG+5VwZQnM6wFl5yUMmZ/WsAJTTgBKwStjtRcYOQG3C+uDPbXYJEslVYc4UBS4ftriTHN0gUWhWH7X7LzGfYCofKKi5m2L/gR/BIly5WPRRwwh6J9iudgHMyI2wwZ+/PEAbu5VEqLuo2AixWvzBI9APOtUwJewSMN+rEgoHuXKJVKexfQHuswwGfDMWVDxutI2NacomHiJNVPmy0bxiFoPHJemoVy0TYaJ/MvR0dntIqqX3YrpW+p2QvobCKgMnywI59x+9H24ZVN349GYednvvpQ+UbpD+lVVJp2NbWnbboT2mVFJrZq+x9f2WeS8V1uFcZnxE2rw6u5Z0NNseHexXDmJyLBWBCusbkTA13l0bONSZnidpcGwXXsM4wuTI2f++96VasdvcXOvn79rjSls3x4a6y+F1jXdkom+CKcMrfcdZetwLa7G5yF7O071bxxjNRnYxENb4qGIzvdPF682/s4Z8cV+gcGG/W5ctv3ndJ6yRF/9//Aea1bX/JppdOAAAAAElFTkSuQmCC\" class=\"YQ4gaf zr758c wA1Bge\" height=\"55\" width=\"\" alt=\"\" data-csiid=\"5\" data-atf=\"1\"> <br> <img src='https://i.imgur.com/W1jBYkm.png' height=\"300\"/>"
      ]
    },
    {
      "cell_type": "code",
      "metadata": {
        "id": "RIr3CXMAGNdy",
        "cellView": "form"
      },
      "source": [
        "# ============================= FORM ============================= #\n",
        "Mode = \"Move\" #@param [\"Off\",\"Config\", \"Copy\", \"Move\", \"Sync\", \"Checker\", \"Deduplicate\", \"Remove Empty Directories\", \"Empty Trash\", \"qBittorrent\"]\n",
        "Compare = \"Size & Mod-Time\" #@param [\"Size & Mod-Time\", \"Size & Checksum\", \"Only Mod-Time\", \"Only Size\", \"Only Checksum\"]\n",
        "Source = \"/content/udrive/qBittorrent\" #@param {type:\"string\"}\n",
        "Destination = \"\" #@param {type:\"string\"}\n",
        "Transfers = 4 #@param {type:\"slider\", min:1, max:20, step:1}\n",
        "Checkers = 20 #@param {type:\"slider\", min:1, max:40, step:1}\n",
        "#@markdown ---\n",
        "\n",
        "#@markdown <center><h3><font color=\"#3399ff\"><b>⚙️ Global Configuration ⚙️</b></font></h3></center>\n",
        "\n",
        "#@markdown ---\n",
        "Simple_Ouput = True #@param {type:\"boolean\"}\n",
        "Skip_files_that_are_newer_on_the_destination = True #@param {type:\"boolean\"}\n",
        "Skip_all_files_that_exist = True #@param {type:\"boolean\"}\n",
        "Do_not_cross_filesystem_boundaries = False\n",
        "Do_not_update_modtime_if_files_are_identical = False #@param {type:\"boolean\"}\n",
        "Large_amount_of_files_optimization = False\n",
        "Google_Drive_optimization = True #@param {type:\"boolean\"}\n",
        "Dry_Run = False #@param {type:\"boolean\"}\n",
        "Output_Log_File = \"OFF\" #@param [\"OFF\", \"NOTICE\", \"INFO\", \"ERROR\", \"DEBUG\"]\n",
        "Extra_Arguments = \"\" #@param {type:\"string\"}\n",
        "#@markdown ---\n",
        "\n",
        "#@markdown <center><h3><font color=\"#3399ff\"><b>↪️ Sync Configuration ↩️</b></font></h3></center>\n",
        "\n",
        "#@markdown ---\n",
        "Sync_Mode = \"Delete during transfer\" #@param [\"Delete during transfer\", \"Delete before transfering\", \"Delete after transfering\"]\n",
        "Track_Renames = False #@param {type:\"boolean\"}\n",
        "#@markdown ---\n",
        "\n",
        "#@markdown <center><h3><font color=\"#3399ff\"><b>💞 Deduplicate Configuration 💞</b></font></h3></center>\n",
        "\n",
        "#@markdown ---\n",
        "Deduplicate_Mode = \"Interactive\" #@param [\"Interactive\", \"Skip\", \"First\", \"Newest\", \"Oldest\", \"Largest\", \"Rename\"]\n",
        "Deduplicate_Use_Trash = True #@param {type:\"boolean\"}\n",
        "# ================================================================ #\n",
        "\n",
        "import os; from IPython.display import HTML, clear_output\n",
        "import sys\n",
        "\n",
        "\n",
        "if Mode != \"Off\":\n",
        "\n",
        "  # Optimized for Google Colaboratory\n",
        "  os.environ[\"bufferC\"] = \"--buffer-size 96M\"\n",
        "\n",
        "  if Compare == \"Size & Checksum\":\n",
        "    os.environ[\"compareC\"] = \"-c\"\n",
        "  elif Compare == \"Only Mod-Time\":\n",
        "    os.environ[\"compareC\"] = \"--ignore-size\"\n",
        "  elif Compare == \"Only Size\":\n",
        "    os.environ[\"compareC\"] = \"--size-only\"\n",
        "  elif Compare == \"Only Checksum\":\n",
        "    os.environ[\"compareC\"] = \"-c --ignore-size\"\n",
        "  else:\n",
        "    os.environ[\"compareC\"] = \"\"\n",
        "\n",
        "  os.environ[\"sourceC\"] = Source\n",
        "  os.environ[\"destinationC\"] = Destination\n",
        "  os.environ[\"transfersC\"] = \"--transfers \"+str(Transfers)\n",
        "  os.environ[\"checkersC\"] = \"--checkers \"+str(Checkers)\n",
        "\n",
        "  if Skip_files_that_are_newer_on_the_destination == True:\n",
        "    os.environ[\"skipnewC\"] = \"-u\"\n",
        "  else:\n",
        "    os.environ[\"skipnewC\"] = \"\"\n",
        "\n",
        "  if Skip_all_files_that_exist == True:\n",
        "    os.environ[\"skipexistC\"] = \"--ignore-existing\"\n",
        "  else:\n",
        "    os.environ[\"skipexistC\"] = \"\"\n",
        "\n",
        "  if Do_not_cross_filesystem_boundaries == True:\n",
        "    os.environ[\"nocrossfilesystemC\"] = \"--one-file-system\"\n",
        "  else:\n",
        "    os.environ[\"nocrossfilesystemC\"] = \"\"\n",
        "\n",
        "  if Do_not_update_modtime_if_files_are_identical == True:\n",
        "    os.environ[\"noupdatemodtimeC\"] = \"--no-update-modtime\"\n",
        "  else:\n",
        "    os.environ[\"noupdatemodtimeC\"] = \"\"\n",
        "\n",
        "  if Large_amount_of_files_optimization == True:\n",
        "    os.environ[\"filesoptimizeC\"] = \"--fast-list\"\n",
        "  else:\n",
        "    os.environ[\"filesoptimizeC\"] = \"\"\n",
        "\n",
        "  if Google_Drive_optimization == True:\n",
        "    os.environ[\"driveoptimizeC\"] = \"--drive-chunk-size 32M --drive-acknowledge-abuse --drive-keep-revision-forever --disable copy\"\n",
        "  else:\n",
        "    os.environ[\"driveoptimizeC\"] = \"\"\n",
        "\n",
        "  if Dry_Run == True:\n",
        "    os.environ[\"dryrunC\"] = \"-n\"\n",
        "  else:\n",
        "    os.environ[\"dryrunC\"] = \"\"\n",
        "\n",
        "  if Output_Log_File != \"OFF\":\n",
        "    os.environ[\"statsC\"] = \"--log-file=/root/.rclone_log/rclone_log.txt\"\n",
        "  else:\n",
        "    if Simple_Ouput == True:\n",
        "      os.environ[\"statsC\"] = \"-v --stats-one-line --stats=5s\"\n",
        "    else:\n",
        "      os.environ[\"statsC\"] = \"-v --stats=5s\"\n",
        "\n",
        "  if Output_Log_File == \"INFO\":\n",
        "    os.environ[\"loglevelC\"] = \"--log-level INFO\"\n",
        "  elif Output_Log_File == \"ERROR\":\n",
        "    os.environ[\"loglevelC\"] = \"--log-level ERROR\"\n",
        "  elif Output_Log_File == \"DEBUG\":\n",
        "    os.environ[\"loglevelC\"] = \"--log-level DEBUG\"\n",
        "  else:\n",
        "    os.environ[\"loglevelC\"] = \"\"\n",
        "\n",
        "  os.environ[\"extraC\"] = Extra_Arguments\n",
        "\n",
        "  if Sync_Mode == \"Delete during transfer\":\n",
        "    os.environ[\"syncmodeC\"] = \"--delete-during\"\n",
        "  elif Sync_Mode == \"Delete before transfering\":\n",
        "    os.environ[\"syncmodeC\"] = \"--delete-before\"\n",
        "  elif Sync_Mode == \"Delete after transfering\":\n",
        "    os.environ[\"syncmodeC\"] = \"--delete-after\"\n",
        "\n",
        "  if Track_Renames == True:\n",
        "    os.environ[\"trackrenamesC\"] = \"--track-renames\"\n",
        "  else:\n",
        "    os.environ[\"trackrenamesC\"] = \"\"\n",
        "\n",
        "  if Deduplicate_Mode == \"Interactive\":\n",
        "    os.environ[\"deduplicateC\"] = \"interactive\"\n",
        "  elif Deduplicate_Mode == \"Skip\":\n",
        "    os.environ[\"deduplicateC\"] = \"skip\"\n",
        "  elif Deduplicate_Mode == \"First\":\n",
        "    os.environ[\"deduplicateC\"] = \"first\"\n",
        "  elif Deduplicate_Mode == \"Newest\":\n",
        "    os.environ[\"deduplicateC\"] = \"newest\"\n",
        "  elif Deduplicate_Mode == \"Oldest\":\n",
        "    os.environ[\"deduplicateC\"] = \"oldest\"\n",
        "  elif Deduplicate_Mode == \"Largest\":\n",
        "    os.environ[\"deduplicateC\"] = \"largest\"\n",
        "  elif Deduplicate_Mode == \"Rename\":\n",
        "    os.environ[\"deduplicateC\"] = \"rename\"\n",
        "\n",
        "  if Deduplicate_Use_Trash == True:\n",
        "    os.environ[\"deduplicatetrashC\"] = \"\"\n",
        "  else:\n",
        "    os.environ[\"deduplicatetrashC\"] = \"--drive-use-trash=false\"\n",
        "\n",
        "  ### rclone Execution\n",
        "\n",
        "  if Output_Log_File != \"OFF\" and Mode != \"Config\":\n",
        "    !mkdir -p -m 666 /root/.rclone_log/\n",
        "    display(HTML(\"<center><h2 style=\\\"font-family:Trebuchet MS;color:#ce2121;\\\">Logging enables, rclone will not output log through the terminal, please wait until finished.</h2><br></center>\"))\n",
        "\n",
        "\n",
        "  if Mode == \"Config\":\n",
        "    !rclone --config=/root/.rclone.conf config\n",
        "  elif Mode == \"Copy\":\n",
        "    !rclone --config=/root/.rclone.conf copy \"$sourceC\" \"$destinationC\" $transfersC $checkersC $statsC $loglevelC $compareC $skipnewC $skipexistC $nocrossfilesystemC $noupdatemodtimeC $bufferC $filesoptimizeC $driveoptimizeC $dryrunC $extraC\n",
        "  elif Mode == \"Move\":\n",
        "    !rclone --config=/root/.rclone.conf move \"$sourceC\" \"$destinationC\" $transfersC $checkersC $statsC $loglevelC --delete-empty-src-dirs $compareC $skipnewC $skipexistC $nocrossfilesystemC $noupdatemodtimeC $bufferC $filesoptimizeC $driveoptimizeC $dryrunC $extraC\n",
        "  elif Mode == \"Sync\":\n",
        "    !rclone --config=/root/.rclone.conf sync \"$sourceC\" \"$destinationC\" $transfersC $checkersC $statsC $loglevelC $syncmodeC $trackrenamesC $compareC $skipnewC $skipexistC $nocrossfilesystemC $noupdatemodtimeC $bufferC $filesoptimizeC $driveoptimizeC $dryrunC $extraC\n",
        "  elif Mode == \"Checker\":\n",
        "    !rclone --config=/root/.rclone.conf check \"$sourceC\" \"$destinationC\" $checkersC $statsC $loglevelC $compareC $skipnewC $skipexistC $nocrossfilesystemC $noupdatemodtimeC $bufferC $filesoptimizeC $driveoptimizeC $dryrunC $extraC\n",
        "  elif Mode == \"Deduplicate\":\n",
        "    !rclone --config=/root/.rclone.conf dedupe \"$sourceC\" $checkersC $statsC $loglevelC --dedupe-mode $deduplicateC $deduplicatetrashC $compareC $skipnewC $skipexistC $nocrossfilesystemC $noupdatemodtimeC $bufferC $filesoptimizeC $driveoptimizeC $dryrunC $extraC\n",
        "  elif Mode == \"Remove Empty Directories\":\n",
        "    !rclone --config=/root/.rclone.conf rmdirs \"$sourceC\" $statsC $loglevelC $dryrunC $extraC\n",
        "  elif Mode == \"Empty Trash\":\n",
        "    !rclone --config=/root/.rclone.conf cleanup \"$sourceC\" $statsC $loglevelC $dryrunC $extraC\n",
        "  elif Mode == \"qBittorrent\":\n",
        "    !chmod -R 666 /content/qBittorrent/\n",
        "    !rclone --config=/root/.rclone.conf move \"/content/qBittorrent/\" \"$destinationC\" $transfersC $checkersC $statsC $loglevelC --delete-empty-src-dirs --exclude **/.unwanted/ $compareC $skipnewC $skipexistC $nocrossfilesystemC $noupdatemodtimeC $bufferC $filesoptimizeC $driveoptimizeC $dryrunC $extraC\n",
        "\n",
        "  ### Log Output\n",
        "\n",
        "  if Output_Log_File != \"OFF\" and Mode != \"Config\":\n",
        "    ### Rename log file and output settings.\n",
        "    !mv /root/.rclone_log/rclone_log.txt /root/.rclone_log/rclone_log_$(date +%Y-%m-%d_%H.%M.%S).txt\n",
        "    with open(\"/root/.rclone_log/\" + Mode + \"_settings.txt\", \"w\") as f:\n",
        "      f.write(\"Mode: \" + Mode + \\\n",
        "              \"\\nCompare: \" + Compare + \\\n",
        "              \"\\nSource: \\\"\" + Source + \\\n",
        "              \"\\\"\\nDestination: \\\"\" + Destination + \\\n",
        "              \"\\\"\\nTransfers: \" + str(Transfers) + \\\n",
        "              \"\\nCheckers: \" + str(Checkers) + \\\n",
        "              \"\\nSkip files that are newer on the destination: \" + str(Skip_files_that_are_newer_on_the_destination) + \\\n",
        "              \"\\nSkip all files that exist: \" + str(Skip_all_files_that_exist) + \\\n",
        "              \"\\nDo not cross filesystem boundaries: \" + str(Do_not_cross_filesystem_boundaries) + \\\n",
        "              \"\\nDo not update modtime if files are identical: \" + str(Do_not_update_modtime_if_files_are_identical) + \\\n",
        "              \"\\nDry-Run: \" + str(Dry_Run) + \\\n",
        "              \"\\nOutput Log Level: \" + Output_Log_File + \\\n",
        "              \"\\nExtra Arguments: \\\"\" + Extra_Arguments + \\\n",
        "              \"\\\"\\nSync Moden: \" + Sync_Mode + \\\n",
        "              \"\\nTrack Renames: \" + str(Track_Renames) + \\\n",
        "              \"\\nDeduplicate Mode: \" + Deduplicate_Mode + \\\n",
        "              \"\\nDeduplicate Use Trash: \" + str(Deduplicate_Use_Trash))\n",
        "    ### Compressing log file.\n",
        "    !rm -f /root/rclone_log.zip\n",
        "    !zip -r -q -j -9 /root/rclone_log.zip /root/.rclone_log/\n",
        "    !rm -rf /root/.rclone_log/\n",
        "    !mkdir -p -m 666 /root/.rclone_log/\n",
        "    ### Send Log\n",
        "    if os.path.isfile(\"/root/rclone_log.zip\") == True:\n",
        "      try:\n",
        "        files.download(\"/root/rclone_log.zip\")\n",
        "        !rm -f /root/rclone_log.zip\n",
        "        display(HTML(\"<center><h2 style=\\\"font-family:Trebuchet MS;color:#446785;\\\">Sending log to your browser...</h2><br></center>\"))\n",
        "      except:\n",
        "        !mv /root/rclone_log.zip /content/rclone_log_$(date +%Y-%m-%d_%H.%M.%S).zip\n",
        "        display(HTML(\"<center><h2 style=\\\"font-family:Trebuchet MS;color:#446785;\\\">You can use file explorer to download the log file.</h2><br></center>\"))\n",
        "    else:\n",
        "      clear_output(wait=True)\n",
        "      display(HTML(\"<center><h2 style=\\\"font-family:Trebuchet MS;color:#ce2121;\\\">There is no log file.</h2><br></center>\"))\n",
        "\n",
        "  ### Operation has been successfully completed.\n",
        "  if os.path.isfile(\"/usr/bin/rclone\") == False:\n",
        "    clear_output(wait=True)\n",
        "    display(HTML(\"<center><h2 style=\\\"font-family:Trebuchet MS;color:#ce2121;\\\">❌ Please run the installation cell above first.</h2><br></center>\"))\n",
        "  elif Mode != \"Config\":\n",
        "    display(HTML(\"<center><h2 style=\\\"font-family:Trebuchet MS;color:#00b24c;\\\">✅ Operation has been successfully completed.</h2><br></center>\"))\n",
        "else:\n",
        "  !echo \"doing nothing because the mode is set to off\""
      ],
      "execution_count": null,
      "outputs": []
    },
    {
      "cell_type": "markdown",
      "metadata": {
        "id": "_T-A9oteyW14"
      },
      "source": [
        "### 📚 Follow me on GitHub for more: [_@cheems_](https://github.com/cheems)\n",
        "##### 📦 Repo: [Github](https://github.com/cheems/Torrents-to-Google-Drive)"
      ]
    }
  ]
}